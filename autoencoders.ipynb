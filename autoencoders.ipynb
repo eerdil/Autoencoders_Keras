{
 "cells": [
  {
   "cell_type": "code",
   "execution_count": 9,
   "metadata": {},
   "outputs": [
    {
     "name": "stdout",
     "output_type": "stream",
     "text": [
      "Extracting MNIST_data/train-images-idx3-ubyte.gz\n",
      "Extracting MNIST_data/train-labels-idx1-ubyte.gz\n",
      "Extracting MNIST_data/t10k-images-idx3-ubyte.gz\n",
      "Extracting MNIST_data/t10k-labels-idx1-ubyte.gz\n",
      "(55000, 784)\n"
     ]
    }
   ],
   "source": [
    "import matplotlib.pyplot as plt\n",
    "from keras.layers import Input, Dense, Conv2D, MaxPooling2D, UpSampling2D, Flatten, Reshape, Conv2DTranspose, Lambda\n",
    "from keras.models import Model\n",
    "import numpy as np\n",
    "# import MNIST data\n",
    "from tensorflow.examples.tutorials.mnist import input_data\n",
    "mnist = input_data.read_data_sets(\"MNIST_data/\", one_hot=True)\n",
    "mnist_train = mnist.train.images\n",
    "mnist_test = mnist.test.images\n",
    "mnist_validation = mnist.validation.images\n",
    "\n",
    "print(mnist_train.shape)"
   ]
  },
  {
   "cell_type": "code",
   "execution_count": 10,
   "metadata": {},
   "outputs": [],
   "source": [
    "# Model\n",
    "# Training Parameters\n",
    "learning_rate = 0.001\n",
    "num_steps = 30000\n",
    "batch_size = 256\n",
    "\n",
    "display_step = 1000\n",
    "\n",
    "# Network Parameters\n",
    "num_hidden_1 = 256 # number of parameters in the first fully connected layer in encoder and decoder\n",
    "num_hidden_2 = 128 # number of parameters in the second fully connected layer in encoder\n",
    "num_hidden_3 = 3136 # number of parameters in the second fully connected layer in decoder\n",
    "num_input = 784 # MNIST data input (img shape: 28*28)\n",
    "\n",
    "train_on_gpu = True # True for training on GPU, False for training on CPU\n",
    "\n",
    "# Build computational graph using Keras\n",
    "\n",
    "X = Input(shape = (28, 28, 1)) # placeholder for input data\n",
    "\n",
    "# Function that builds computational graph of encoder\n",
    "def encoder(x):  \n",
    "    conv1 = Conv2D(32, (5, 5), activation='relu', padding='same')(x)   \n",
    "    \n",
    "    pool1 = MaxPooling2D((2, 2), strides = 2, padding='same')(conv1)\n",
    "        \n",
    "    conv2 = Conv2D(64, (5, 5), activation='relu', padding='same')(pool1)\n",
    "    \n",
    "    pool2 = MaxPooling2D((2, 2), strides = 2, padding='same')(conv2)\n",
    "    \n",
    "    flattened = Flatten()(pool2)\n",
    "    \n",
    "    dense1 = Dense(num_hidden_1, activation = 'relu')(flattened)\n",
    "        \n",
    "    dense2 = Dense(num_hidden_2, activation = 'sigmoid')(dense1)\n",
    "    \n",
    "    return dense2\n",
    "\n",
    "# Function that builds computational graph of decoder\n",
    "def decoder(x):\n",
    "    dense1 = Dense(num_hidden_1, activation = 'relu')(x)\n",
    "    \n",
    "    dense2 = Dense(num_hidden_3, activation = 'relu')(dense1)\n",
    "        \n",
    "    dense2 = Reshape((7, 7, 64))(dense2)\n",
    "        \n",
    "    deconv1 = Conv2DTranspose(64, (5, 5), activation='relu', padding='same')(dense2)\n",
    "    \n",
    "    upsample1 = UpSampling2D((2, 2))(deconv1)\n",
    "            \n",
    "    deconv2 = Conv2DTranspose(32, [5, 5], activation='relu', padding='same')(upsample1)\n",
    "        \n",
    "    upsample2 = UpSampling2D((2, 2))(deconv2)\n",
    "            \n",
    "    flattened = Flatten()(upsample2)\n",
    "        \n",
    "    dense3 = Dense(28 * 28, activation = 'sigmoid')(flattened)\n",
    "        \n",
    "    dense3 = Reshape((28, 28, 1))(dense3)\n",
    "    \n",
    "    return dense3\n",
    "\n",
    "# Autoencoder model\n",
    "encoder_op = Lambda(encoder)(X)\n",
    "decoder_op = Lambda(decoder)(encoder_op)\n",
    "autoencoder = Model(X, decoder_op)        \n",
    "\n",
    "# Determine the optimizer and the loss function\n",
    "autoencoder.compile(optimizer='RMSprop', loss='mean_squared_error')\n"
   ]
  },
  {
   "cell_type": "code",
   "execution_count": null,
   "metadata": {},
   "outputs": [
    {
     "name": "stdout",
     "output_type": "stream",
     "text": [
      "Train on 55000 samples, validate on 10000 samples\n",
      "Epoch 1/256\n"
     ]
    }
   ],
   "source": [
    "# Training\n",
    "mnist_train = np.reshape(mnist_train, (mnist_train.shape[0], 28, 28, 1))\n",
    "mnist_test = np.reshape(mnist_test, (mnist_test.shape[0], 28, 28, 1))\n",
    "\n",
    "autoencoder.fit(mnist_train, mnist_train, num_steps, batch_size, shuffle=True, validation_data=(mnist_test, mnist_test))\n"
   ]
  },
  {
   "cell_type": "code",
   "execution_count": null,
   "metadata": {},
   "outputs": [],
   "source": [
    "# Test  \n",
    "n = 5 # number of images to test\n",
    "_, axarr = plt.subplots(2, n) # create axis array to display images\n",
    "    \n",
    "# Encode and decode images from test set and visualize their reconstruction.\n",
    "batch_x, _ = mnist.test.next_batch(n)\n",
    "batch_x = np.reshape(batch_x, [-1, 28, 28, 1])\n",
    "\n",
    "g = autoencoder.predict(batch_x) \n",
    "\n",
    "for i in range(n):       \n",
    "    axarr[0, i].imshow(batch_x[i].reshape([28, 28]), origin=\"upper\", cmap=\"gray\")\n",
    "    axarr[1, i].imshow(g[i].reshape([28, 28]), origin=\"upper\", cmap=\"gray\")"
   ]
  },
  {
   "cell_type": "code",
   "execution_count": null,
   "metadata": {},
   "outputs": [],
   "source": []
  }
 ],
 "metadata": {
  "kernelspec": {
   "display_name": "Python 3",
   "language": "python",
   "name": "python3"
  },
  "language_info": {
   "codemirror_mode": {
    "name": "ipython",
    "version": 3
   },
   "file_extension": ".py",
   "mimetype": "text/x-python",
   "name": "python",
   "nbconvert_exporter": "python",
   "pygments_lexer": "ipython3",
   "version": "3.5.2"
  }
 },
 "nbformat": 4,
 "nbformat_minor": 2
}
