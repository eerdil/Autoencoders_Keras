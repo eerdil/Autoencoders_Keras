{
 "cells": [
  {
   "cell_type": "code",
   "execution_count": 9,
   "metadata": {
    "colab": {
     "autoexec": {
      "startup": false,
      "wait_interval": 0
     },
     "base_uri": "https://localhost:8080/",
     "height": 89
    },
    "colab_type": "code",
    "executionInfo": {
     "elapsed": 1030,
     "status": "ok",
     "timestamp": 1529760195801,
     "user": {
      "displayName": "Ertunç Erdil",
      "photoUrl": "//lh5.googleusercontent.com/-gTgtLENaEC8/AAAAAAAAAAI/AAAAAAAAAAA/nQC4CNY7n8I/s50-c-k-no/photo.jpg",
      "userId": "115950656831627786186"
     },
     "user_tz": -60
    },
    "id": "9Aqt7Six8CUA",
    "outputId": "d62a7c28-b18a-4fae-a2e6-7ef4bc7bfaa4"
   },
   "outputs": [
    {
     "name": "stdout",
     "output_type": "stream",
     "text": [
      "Extracting MNIST_data/train-images-idx3-ubyte.gz\n",
      "Extracting MNIST_data/train-labels-idx1-ubyte.gz\n",
      "Extracting MNIST_data/t10k-images-idx3-ubyte.gz\n",
      "Extracting MNIST_data/t10k-labels-idx1-ubyte.gz\n"
     ]
    }
   ],
   "source": [
    "import matplotlib.pyplot as plt\n",
    "from keras.layers import Input, Dense, Conv2D, MaxPooling2D, UpSampling2D, Flatten, Reshape, Conv2DTranspose, Lambda\n",
    "from keras.models import Model\n",
    "from keras.optimizers import RMSprop\n",
    "from keras.models import model_from_json\n",
    "import numpy as np\n",
    "\n",
    "# import MNIST data\n",
    "from tensorflow.examples.tutorials.mnist import input_data\n",
    "mnist = input_data.read_data_sets(\"MNIST_data/\", one_hot=True)\n",
    "mnist_train = mnist.train.images\n",
    "mnist_test = mnist.test.images\n",
    "mnist_validation = mnist.validation.images\n"
   ]
  },
  {
   "cell_type": "code",
   "execution_count": 10,
   "metadata": {
    "colab": {
     "autoexec": {
      "startup": false,
      "wait_interval": 0
     }
    },
    "colab_type": "code",
    "id": "bSVkiJqO8CUI"
   },
   "outputs": [],
   "source": [
    "# Model\n",
    "# Training Parameters\n",
    "learning_rate = 0.001\n",
    "num_steps = 100\n",
    "batch_size = 256\n",
    "\n",
    "# Network Parameters\n",
    "num_hidden_1 = 256 # number of parameters in the first fully connected layer in encoder and decoder\n",
    "num_hidden_2 = 128 # number of parameters in the second fully connected layer in encoder\n",
    "num_hidden_3 = 3136 # number of parameters in the second fully connected layer in decoder\n",
    "num_input = 784 # MNIST data input (img shape: 28*28)\n",
    "\n",
    "# Build computational graph using Keras\n",
    "\n",
    "X = Input(shape = (28, 28, 1)) # placeholder for input data\n",
    "\n",
    "enc_conv1 = Conv2D(32, (5, 5), activation='relu', padding='same')(X)\n",
    "    \n",
    "enc_pool1 = MaxPooling2D((2, 2), strides = 2, padding='same')(enc_conv1)\n",
    "        \n",
    "enc_conv2 = Conv2D(64, (5, 5), activation='relu', padding='same')(enc_pool1)\n",
    "    \n",
    "enc_pool2 = MaxPooling2D((2, 2), strides = 2, padding='same')(enc_conv2)\n",
    "    \n",
    "enc_flattened = Flatten()(enc_pool2)\n",
    "    \n",
    "enc_dense1 = Dense(num_hidden_1, activation = 'relu')(enc_flattened)\n",
    "        \n",
    "enc_dense2 = Dense(num_hidden_2, activation = 'sigmoid')(enc_dense1)\n",
    "\n",
    "enc_dense1 = Dense(num_hidden_1, activation = 'relu')(enc_dense2)\n",
    "    \n",
    "enc_dense2 = Dense(num_hidden_3, activation = 'relu')(enc_dense1)\n",
    "        \n",
    "enc_dense2 = Reshape((7, 7, 64))(enc_dense2)\n",
    "        \n",
    "enc_deconv1 = Conv2DTranspose(64, (5, 5), activation='relu', padding='same', kernel_initializer='glorot_normal')(enc_dense2)\n",
    "    \n",
    "enc_upsample1 = UpSampling2D((2, 2))(enc_deconv1)\n",
    "            \n",
    "enc_deconv2 = Conv2DTranspose(32, [5, 5], activation='relu', padding='same', kernel_initializer='glorot_normal')(enc_upsample1)\n",
    "        \n",
    "enc_upsample2 = UpSampling2D((2, 2))(enc_deconv2)\n",
    "            \n",
    "enc_flattened = Flatten()(enc_upsample2)\n",
    "        \n",
    "enc_dense3 = Dense(28 * 28, activation = 'sigmoid', kernel_initializer='glorot_normal')(enc_flattened)\n",
    "        \n",
    "enc_dense3 = Reshape((28, 28, 1))(enc_dense3)\n",
    "    \n",
    "# Autoencoder model  \n",
    "autoencoder = Model(X, enc_dense3)\n",
    "\n",
    "# Determine the optimizer and the loss function\n",
    "opt = RMSprop(lr = 0.001)\n",
    "autoencoder.compile(optimizer=opt, loss='mean_squared_error')\n"
   ]
  },
  {
   "cell_type": "markdown",
   "metadata": {
    "colab_type": "text",
    "id": "LQ9c_PeAqips"
   },
   "source": []
  },
  {
   "cell_type": "code",
   "execution_count": 5,
   "metadata": {
    "colab": {
     "autoexec": {
      "startup": false,
      "wait_interval": 0
     },
     "base_uri": "https://localhost:8080/",
     "height": 3635
    },
    "colab_type": "code",
    "executionInfo": {
     "elapsed": 1746338,
     "status": "ok",
     "timestamp": 1529748119444,
     "user": {
      "displayName": "Ertunç Erdil",
      "photoUrl": "//lh5.googleusercontent.com/-gTgtLENaEC8/AAAAAAAAAAI/AAAAAAAAAAA/nQC4CNY7n8I/s50-c-k-no/photo.jpg",
      "userId": "115950656831627786186"
     },
     "user_tz": -60
    },
    "id": "MsRZKHH08CUN",
    "outputId": "b4d4d8d2-91bf-43a7-9205-b125144b25a8"
   },
   "outputs": [
    {
     "name": "stdout",
     "output_type": "stream",
     "text": [
      "Train on 55000 samples, validate on 10000 samples\n",
      "Epoch 1/100\n",
      "55000/55000 [==============================] - 19s 344us/step - loss: 0.0614 - val_loss: 0.0405\n",
      "Epoch 2/100\n",
      "55000/55000 [==============================] - 17s 317us/step - loss: 0.0351 - val_loss: 0.0316\n",
      "Epoch 3/100\n",
      "14592/55000 [======>.......................] - ETA: 12s - loss: 0.029155000/55000 [==============================] - 17s 317us/step - loss: 0.0265 - val_loss: 0.0216\n",
      "Epoch 4/100\n",
      "55000/55000 [==============================] - 17s 317us/step - loss: 0.0215 - val_loss: 0.0193\n",
      "Epoch 5/100\n",
      "45312/55000 [=======================>......] - ETA: 2s - loss: 0.018855000/55000 [==============================] - 17s 318us/step - loss: 0.0186 - val_loss: 0.0181\n",
      "Epoch 6/100\n",
      "55000/55000 [==============================] - 17s 318us/step - loss: 0.0165 - val_loss: 0.0149\n",
      "Epoch 7/100\n",
      "52992/55000 [===========================>..] - ETA: 0s - loss: 0.015055000/55000 [==============================] - 17s 317us/step - loss: 0.0150 - val_loss: 0.0146\n",
      "Epoch 8/100\n",
      "55000/55000 [==============================] - 17s 318us/step - loss: 0.0138 - val_loss: 0.0140\n",
      "Epoch 9/100\n",
      "54784/55000 [============================>.] - ETA: 0s - loss: 0.012955000/55000 [==============================] - 18s 318us/step - loss: 0.0129 - val_loss: 0.0132\n",
      "Epoch 10/100\n",
      "55000/55000 [==============================] - 17s 317us/step - loss: 0.0121 - val_loss: 0.0130\n",
      "Epoch 11/100\n",
      "54528/55000 [============================>.] - ETA: 0s - loss: 0.011555000/55000 [==============================] - 18s 318us/step - loss: 0.0115 - val_loss: 0.0116\n",
      "Epoch 12/100\n",
      "55000/55000 [==============================] - 17s 316us/step - loss: 0.0109 - val_loss: 0.0114\n",
      "Epoch 13/100\n",
      "54528/55000 [============================>.] - ETA: 0s - loss: 0.010455000/55000 [==============================] - 17s 317us/step - loss: 0.0104 - val_loss: 0.0118\n",
      "Epoch 14/100\n",
      "55000/55000 [==============================] - 17s 317us/step - loss: 0.0099 - val_loss: 0.0116\n",
      "Epoch 15/100\n",
      "54528/55000 [============================>.] - ETA: 0s - loss: 0.009555000/55000 [==============================] - 17s 317us/step - loss: 0.0095 - val_loss: 0.0116\n",
      "Epoch 16/100\n",
      "55000/55000 [==============================] - 17s 317us/step - loss: 0.0092 - val_loss: 0.0111\n",
      "Epoch 17/100\n",
      "54528/55000 [============================>.] - ETA: 0s - loss: 0.008955000/55000 [==============================] - 17s 317us/step - loss: 0.0089 - val_loss: 0.0106\n",
      "Epoch 18/100\n",
      "55000/55000 [==============================] - 17s 317us/step - loss: 0.0085 - val_loss: 0.0107\n",
      "Epoch 19/100\n",
      "54528/55000 [============================>.] - ETA: 0s - loss: 0.008355000/55000 [==============================] - 17s 317us/step - loss: 0.0083 - val_loss: 0.0103\n",
      "Epoch 20/100\n",
      "55000/55000 [==============================] - 18s 318us/step - loss: 0.0081 - val_loss: 0.0105\n",
      "Epoch 21/100\n",
      "54528/55000 [============================>.] - ETA: 0s - loss: 0.007855000/55000 [==============================] - 17s 315us/step - loss: 0.0078 - val_loss: 0.0100\n",
      "Epoch 22/100\n",
      "55000/55000 [==============================] - 17s 317us/step - loss: 0.0076 - val_loss: 0.0104\n",
      "Epoch 23/100\n",
      "54528/55000 [============================>.] - ETA: 0s - loss: 0.007455000/55000 [==============================] - 17s 318us/step - loss: 0.0074 - val_loss: 0.0102\n",
      "Epoch 24/100\n",
      "55000/55000 [==============================] - 17s 317us/step - loss: 0.0072 - val_loss: 0.0104\n",
      "Epoch 25/100\n",
      "54528/55000 [============================>.] - ETA: 0s - loss: 0.007155000/55000 [==============================] - 17s 316us/step - loss: 0.0071 - val_loss: 0.0100\n",
      "Epoch 26/100\n",
      "55000/55000 [==============================] - 17s 317us/step - loss: 0.0069 - val_loss: 0.0101\n",
      "Epoch 27/100\n",
      "54528/55000 [============================>.] - ETA: 0s - loss: 0.006855000/55000 [==============================] - 17s 316us/step - loss: 0.0068 - val_loss: 0.0101\n",
      "Epoch 28/100\n",
      "55000/55000 [==============================] - 17s 316us/step - loss: 0.0066 - val_loss: 0.0098\n",
      "Epoch 29/100\n",
      "54528/55000 [============================>.] - ETA: 0s - loss: 0.006555000/55000 [==============================] - 17s 316us/step - loss: 0.0065 - val_loss: 0.0101\n",
      "Epoch 30/100\n",
      "55000/55000 [==============================] - 17s 317us/step - loss: 0.0064 - val_loss: 0.0103\n",
      "Epoch 31/100\n",
      "54528/55000 [============================>.] - ETA: 0s - loss: 0.006355000/55000 [==============================] - 17s 316us/step - loss: 0.0063 - val_loss: 0.0099\n",
      "Epoch 32/100\n",
      "55000/55000 [==============================] - 17s 316us/step - loss: 0.0061 - val_loss: 0.0099\n",
      "Epoch 33/100\n",
      "54528/55000 [============================>.] - ETA: 0s - loss: 0.006055000/55000 [==============================] - 17s 316us/step - loss: 0.0060 - val_loss: 0.0098\n",
      "Epoch 34/100\n",
      "55000/55000 [==============================] - 17s 316us/step - loss: 0.0059 - val_loss: 0.0097\n",
      "Epoch 35/100\n",
      "54528/55000 [============================>.] - ETA: 0s - loss: 0.005855000/55000 [==============================] - 17s 317us/step - loss: 0.0058 - val_loss: 0.0100\n",
      "Epoch 36/100\n",
      "55000/55000 [==============================] - 17s 317us/step - loss: 0.0057 - val_loss: 0.0096\n",
      "Epoch 37/100\n",
      "54528/55000 [============================>.] - ETA: 0s - loss: 0.005755000/55000 [==============================] - 17s 316us/step - loss: 0.0057 - val_loss: 0.0096\n",
      "Epoch 38/100\n",
      "55000/55000 [==============================] - 17s 317us/step - loss: 0.0056 - val_loss: 0.0100\n",
      "Epoch 39/100\n",
      "54528/55000 [============================>.] - ETA: 0s - loss: 0.005555000/55000 [==============================] - 17s 317us/step - loss: 0.0055 - val_loss: 0.0101\n",
      "Epoch 40/100\n",
      "55000/55000 [==============================] - 17s 317us/step - loss: 0.0054 - val_loss: 0.0100\n",
      "Epoch 41/100\n",
      "54528/55000 [============================>.] - ETA: 0s - loss: 0.005355000/55000 [==============================] - 17s 317us/step - loss: 0.0053 - val_loss: 0.0098\n",
      "Epoch 42/100\n",
      "55000/55000 [==============================] - 17s 318us/step - loss: 0.0053 - val_loss: 0.0099\n",
      "Epoch 43/100\n",
      "54528/55000 [============================>.] - ETA: 0s - loss: 0.005255000/55000 [==============================] - 17s 316us/step - loss: 0.0052 - val_loss: 0.0097\n",
      "Epoch 44/100\n",
      "55000/55000 [==============================] - 17s 318us/step - loss: 0.0051 - val_loss: 0.0098\n",
      "Epoch 45/100\n",
      "54528/55000 [============================>.] - ETA: 0s - loss: 0.005155000/55000 [==============================] - 17s 318us/step - loss: 0.0051 - val_loss: 0.0099\n",
      "Epoch 46/100\n",
      "55000/55000 [==============================] - 17s 318us/step - loss: 0.0050 - val_loss: 0.0100\n",
      "Epoch 47/100\n",
      "54528/55000 [============================>.] - ETA: 0s - loss: 0.004955000/55000 [==============================] - 17s 318us/step - loss: 0.0049 - val_loss: 0.0100\n",
      "Epoch 48/100\n",
      "55000/55000 [==============================] - 17s 318us/step - loss: 0.0049 - val_loss: 0.0100\n",
      "Epoch 49/100\n",
      "54528/55000 [============================>.] - ETA: 0s - loss: 0.004855000/55000 [==============================] - 18s 321us/step - loss: 0.0048 - val_loss: 0.0097\n",
      "Epoch 50/100\n",
      "55000/55000 [==============================] - 17s 317us/step - loss: 0.0048 - val_loss: 0.0100\n",
      "Epoch 51/100\n",
      "54528/55000 [============================>.] - ETA: 0s - loss: 0.004755000/55000 [==============================] - 17s 316us/step - loss: 0.0047 - val_loss: 0.0101\n",
      "Epoch 52/100\n",
      "55000/55000 [==============================] - 17s 317us/step - loss: 0.0047 - val_loss: 0.0098\n",
      "Epoch 53/100\n",
      "54528/55000 [============================>.] - ETA: 0s - loss: 0.004655000/55000 [==============================] - 17s 316us/step - loss: 0.0046 - val_loss: 0.0101\n",
      "Epoch 54/100\n",
      "55000/55000 [==============================] - 17s 317us/step - loss: 0.0046 - val_loss: 0.0098\n",
      "Epoch 55/100\n",
      "54528/55000 [============================>.] - ETA: 0s - loss: 0.004555000/55000 [==============================] - 17s 317us/step - loss: 0.0045 - val_loss: 0.0099\n",
      "Epoch 56/100\n",
      "55000/55000 [==============================] - 17s 317us/step - loss: 0.0045 - val_loss: 0.0102\n",
      "Epoch 57/100\n",
      "54528/55000 [============================>.] - ETA: 0s - loss: 0.004555000/55000 [==============================] - 17s 316us/step - loss: 0.0045 - val_loss: 0.0097\n",
      "Epoch 58/100\n",
      "55000/55000 [==============================] - 17s 317us/step - loss: 0.0044 - val_loss: 0.0100\n",
      "Epoch 59/100\n"
     ]
    },
    {
     "name": "stdout",
     "output_type": "stream",
     "text": [
      "54528/55000 [============================>.] - ETA: 0s - loss: 0.004455000/55000 [==============================] - 17s 318us/step - loss: 0.0044 - val_loss: 0.0098\n",
      "Epoch 60/100\n",
      "55000/55000 [==============================] - 17s 318us/step - loss: 0.0044 - val_loss: 0.0101\n",
      "Epoch 61/100\n",
      "54528/55000 [============================>.] - ETA: 0s - loss: 0.004355000/55000 [==============================] - 17s 317us/step - loss: 0.0043 - val_loss: 0.0101\n",
      "Epoch 62/100\n",
      "55000/55000 [==============================] - 17s 317us/step - loss: 0.0043 - val_loss: 0.0100\n",
      "Epoch 63/100\n",
      "54528/55000 [============================>.] - ETA: 0s - loss: 0.004255000/55000 [==============================] - 17s 318us/step - loss: 0.0042 - val_loss: 0.0099\n",
      "Epoch 64/100\n",
      "55000/55000 [==============================] - 17s 317us/step - loss: 0.0042 - val_loss: 0.0101\n",
      "Epoch 65/100\n",
      "54528/55000 [============================>.] - ETA: 0s - loss: 0.004255000/55000 [==============================] - 17s 316us/step - loss: 0.0042 - val_loss: 0.0105\n",
      "Epoch 66/100\n",
      "55000/55000 [==============================] - 17s 318us/step - loss: 0.0041 - val_loss: 0.0104\n",
      "Epoch 67/100\n",
      "54528/55000 [============================>.] - ETA: 0s - loss: 0.004155000/55000 [==============================] - 17s 317us/step - loss: 0.0041 - val_loss: 0.0104\n",
      "Epoch 68/100\n",
      "55000/55000 [==============================] - 17s 315us/step - loss: 0.0041 - val_loss: 0.0100\n",
      "Epoch 69/100\n",
      "54528/55000 [============================>.] - ETA: 0s - loss: 0.004055000/55000 [==============================] - 17s 317us/step - loss: 0.0040 - val_loss: 0.0100\n",
      "Epoch 70/100\n",
      "55000/55000 [==============================] - 17s 317us/step - loss: 0.0040 - val_loss: 0.0099\n",
      "Epoch 71/100\n",
      "54528/55000 [============================>.] - ETA: 0s - loss: 0.004055000/55000 [==============================] - 17s 316us/step - loss: 0.0040 - val_loss: 0.0102\n",
      "Epoch 72/100\n",
      "55000/55000 [==============================] - 17s 317us/step - loss: 0.0040 - val_loss: 0.0101\n",
      "Epoch 73/100\n",
      "54528/55000 [============================>.] - ETA: 0s - loss: 0.003955000/55000 [==============================] - 17s 317us/step - loss: 0.0039 - val_loss: 0.0101\n",
      "Epoch 74/100\n",
      "55000/55000 [==============================] - 17s 317us/step - loss: 0.0039 - val_loss: 0.0100\n",
      "Epoch 75/100\n",
      "54528/55000 [============================>.] - ETA: 0s - loss: 0.003955000/55000 [==============================] - 17s 317us/step - loss: 0.0039 - val_loss: 0.0104\n",
      "Epoch 76/100\n",
      "55000/55000 [==============================] - 17s 317us/step - loss: 0.0039 - val_loss: 0.0100\n",
      "Epoch 77/100\n",
      "54528/55000 [============================>.] - ETA: 0s - loss: 0.003855000/55000 [==============================] - 17s 316us/step - loss: 0.0038 - val_loss: 0.0102\n",
      "Epoch 78/100\n",
      "55000/55000 [==============================] - 17s 317us/step - loss: 0.0038 - val_loss: 0.0101\n",
      "Epoch 79/100\n",
      "54528/55000 [============================>.] - ETA: 0s - loss: 0.003855000/55000 [==============================] - 17s 318us/step - loss: 0.0038 - val_loss: 0.0100\n",
      "Epoch 80/100\n",
      "55000/55000 [==============================] - 17s 317us/step - loss: 0.0038 - val_loss: 0.0102\n",
      "Epoch 81/100\n",
      "54528/55000 [============================>.] - ETA: 0s - loss: 0.003855000/55000 [==============================] - 17s 316us/step - loss: 0.0038 - val_loss: 0.0102\n",
      "Epoch 82/100\n",
      "55000/55000 [==============================] - 17s 315us/step - loss: 0.0037 - val_loss: 0.0102\n",
      "Epoch 83/100\n",
      "54528/55000 [============================>.] - ETA: 0s - loss: 0.003755000/55000 [==============================] - 17s 317us/step - loss: 0.0037 - val_loss: 0.0103\n",
      "Epoch 84/100\n",
      "55000/55000 [==============================] - 17s 317us/step - loss: 0.0037 - val_loss: 0.0100\n",
      "Epoch 85/100\n",
      "54528/55000 [============================>.] - ETA: 0s - loss: 0.003755000/55000 [==============================] - 17s 316us/step - loss: 0.0037 - val_loss: 0.0103\n",
      "Epoch 86/100\n",
      "55000/55000 [==============================] - 17s 316us/step - loss: 0.0036 - val_loss: 0.0101\n",
      "Epoch 87/100\n",
      "54528/55000 [============================>.] - ETA: 0s - loss: 0.003655000/55000 [==============================] - 17s 316us/step - loss: 0.0036 - val_loss: 0.0103\n",
      "Epoch 88/100\n",
      "55000/55000 [==============================] - 17s 315us/step - loss: 0.0036 - val_loss: 0.0103\n",
      "Epoch 89/100\n",
      "54528/55000 [============================>.] - ETA: 0s - loss: 0.003655000/55000 [==============================] - 17s 317us/step - loss: 0.0036 - val_loss: 0.0103\n",
      "Epoch 90/100\n",
      "55000/55000 [==============================] - 17s 318us/step - loss: 0.0036 - val_loss: 0.0102\n",
      "Epoch 91/100\n",
      "54528/55000 [============================>.] - ETA: 0s - loss: 0.003655000/55000 [==============================] - 17s 316us/step - loss: 0.0036 - val_loss: 0.0103\n",
      "Epoch 92/100\n",
      "55000/55000 [==============================] - 17s 317us/step - loss: 0.0035 - val_loss: 0.0103\n",
      "Epoch 93/100\n",
      "54528/55000 [============================>.] - ETA: 0s - loss: 0.003555000/55000 [==============================] - 17s 317us/step - loss: 0.0035 - val_loss: 0.0103\n",
      "Epoch 94/100\n",
      "55000/55000 [==============================] - 17s 316us/step - loss: 0.0035 - val_loss: 0.0104\n",
      "Epoch 95/100\n",
      "54528/55000 [============================>.] - ETA: 0s - loss: 0.003555000/55000 [==============================] - 17s 318us/step - loss: 0.0035 - val_loss: 0.0103\n",
      "Epoch 96/100\n",
      "55000/55000 [==============================] - 17s 317us/step - loss: 0.0035 - val_loss: 0.0104\n",
      "Epoch 97/100\n",
      "54528/55000 [============================>.] - ETA: 0s - loss: 0.003455000/55000 [==============================] - 17s 317us/step - loss: 0.0034 - val_loss: 0.0105\n",
      "Epoch 98/100\n",
      "55000/55000 [==============================] - 18s 319us/step - loss: 0.0034 - val_loss: 0.0103\n",
      "Epoch 99/100\n",
      "54528/55000 [============================>.] - ETA: 0s - loss: 0.003455000/55000 [==============================] - 17s 317us/step - loss: 0.0034 - val_loss: 0.0104\n",
      "Epoch 100/100\n",
      "55000/55000 [==============================] - 17s 316us/step - loss: 0.0034 - val_loss: 0.0103\n"
     ]
    }
   ],
   "source": [
    "# Training\n",
    "mnist_train = np.reshape(mnist_train, (mnist_train.shape[0], 28, 28, 1))\n",
    "mnist_test = np.reshape(mnist_test, (mnist_test.shape[0], 28, 28, 1))\n",
    "\n",
    "autoencoder.fit(mnist_train, mnist_train, batch_size, epochs = num_steps, shuffle=True, validation_data=(mnist_test, mnist_test))\n",
    "\n",
    "# save model\n",
    "autoencoder.save_weights(\"model.h5\")"
   ]
  },
  {
   "cell_type": "code",
   "execution_count": 13,
   "metadata": {
    "colab": {
     "autoexec": {
      "startup": false,
      "wait_interval": 0
     },
     "base_uri": "https://localhost:8080/",
     "height": 309
    },
    "colab_type": "code",
    "executionInfo": {
     "elapsed": 5338,
     "status": "ok",
     "timestamp": 1529760659863,
     "user": {
      "displayName": "Ertunç Erdil",
      "photoUrl": "//lh5.googleusercontent.com/-gTgtLENaEC8/AAAAAAAAAAI/AAAAAAAAAAA/nQC4CNY7n8I/s50-c-k-no/photo.jpg",
      "userId": "115950656831627786186"
     },
     "user_tz": -60
    },
    "id": "wgot-7C68CUR",
    "outputId": "d92d4154-bbcb-4e6a-c4cb-77374dd969eb"
   },
   "outputs": [
    {
     "data": {
      "image/png": "[encoded data removed]",
      "text/plain": [
       "<matplotlib.figure.Figure at 0x7f21f3776c18>"
      ]
     },
     "metadata": {},
     "output_type": "display_data"
    }
   ],
   "source": [
    "autoencoder.load_weights('model.h5')\n",
    "\n",
    "# Following commented lines is required when copying saved model in Google Colab to Google Drive. I have trained this model in Google Colab so I keep these code snippets here just incase needed by someone.\n",
    "#!pip install -U -q PyDrive\n",
    "#from pydrive.auth import GoogleAuth\n",
    "#from pydrive.drive import GoogleDrive\n",
    "#from google.colab import auth\n",
    "#from oauth2client.client import GoogleCredentials\n",
    "#auth.authenticate_user()\n",
    "#gauth = GoogleAuth()\n",
    "#gauth.credentials = GoogleCredentials.get_application_default()\n",
    "#drive = GoogleDrive(gauth)\n",
    "#uploaded = drive.CreateFile({'title': 'model.h5'})\n",
    "#uploaded.SetContentFile('model.h5')\n",
    "#uploaded.Upload()\n",
    "#print('Uploaded file with ID {}'.format(uploaded.get('id')))\n",
    "\n",
    "# Test  \n",
    "n = 5 # number of images to test\n",
    "_, axarr = plt.subplots(2, n) # create axis array to display images\n",
    "    \n",
    "# Encode and decode images from test set and visualize their reconstruction.\n",
    "batch_x, _ = mnist.test.next_batch(n)\n",
    "batch_x = np.reshape(batch_x, [-1, 28, 28, 1])\n",
    "\n",
    "g = autoencoder.predict(batch_x) \n",
    "\n",
    "for i in range(n):       \n",
    "    axarr[0, i].imshow(batch_x[i].reshape([28, 28]), origin=\"upper\", cmap=\"gray\")\n",
    "    axarr[1, i].imshow(g[i].reshape([28, 28]), origin=\"upper\", cmap=\"gray\")"
   ]
  },
  {
   "cell_type": "code",
   "execution_count": 0,
   "metadata": {
    "colab": {
     "autoexec": {
      "startup": false,
      "wait_interval": 0
     }
    },
    "colab_type": "code",
    "id": "Jy46M1O48CUV"
   },
   "outputs": [],
   "source": []
  }
 ],
 "metadata": {
  "accelerator": "GPU",
  "colab": {
   "collapsed_sections": [],
   "default_view": {},
   "name": "autoencoders_keras.ipynb",
   "provenance": [
    {
     "file_id": "https://github.com/eerdil/Autoencoders_Keras/blob/master/autoencoders.ipynb",
     "timestamp": 1529701524691
    }
   ],
   "version": "0.3.2",
   "views": {}
  },
  "kernelspec": {
   "display_name": "Python 3",
   "language": "python",
   "name": "python3"
  },
  "language_info": {
   "codemirror_mode": {
    "name": "ipython",
    "version": 3
   },
   "file_extension": ".py",
   "mimetype": "text/x-python",
   "name": "python",
   "nbconvert_exporter": "python",
   "pygments_lexer": "ipython3",
   "version": "3.5.2"
  }
 },
 "nbformat": 4,
 "nbformat_minor": 1
}
